{
 "cells": [
  {
   "cell_type": "code",
   "execution_count": 1,
   "metadata": {},
   "outputs": [],
   "source": [
    "import numpy as np\n",
    "import pandas as pd\n",
    "import matplotlib as mpl\n",
    "import matplotlib.pyplot as pl\n",
    "import xarray as xr\n",
    "from scipy.integrate import odeint\n",
    "import regionmask\n",
    "import matplotlib.pylab as plt\n",
    "import cartopy.crs as ccrs\n",
    "import scipy.stats\n",
    "from scipy.stats import norm\n",
    "import statsmodels.api as sm\n",
    "from statsmodels.stats.outliers_influence import summary_table \n",
    "import time\n",
    "import warnings\n",
    "import seaborn as sns\n",
    "from sklearn.metrics import r2_score#print(r2_score(y3,y3_fitted))\n",
    "\n",
    "import xlrd\n",
    "import random\n",
    "####     ax.set_extent([-15, 45, 28, 76], crs=ccrs.PlateCarree())\n",
    "from sklearn import preprocessing\n",
    "robust = preprocessing.RobustScaler()\n",
    "warnings.filterwarnings('ignore')\n",
    "from matplotlib import cm\n",
    "from matplotlib.colors import ListedColormap\n",
    "from cartopy.util import add_cyclic_point"
   ]
  },
  {
   "cell_type": "code",
   "execution_count": 2,
   "metadata": {},
   "outputs": [],
   "source": [
    "def gini(wealths):\n",
    "    cum_wealths = np.cumsum(sorted(np.append(wealths, 0)))\n",
    "    sum_wealths = cum_wealths[-1]\n",
    "    xarray = np.array(range(0, len(cum_wealths))) / np.float(len(cum_wealths) - 1)\n",
    "    upper = xarray\n",
    "    yarray = cum_wealths / sum_wealths\n",
    "#     pl.plot(xarray, yarray)\n",
    "#     pl.plot(xarray, upper)\n",
    "    B = np.trapz(yarray, x=xarray)\n",
    "    A = 0.5 - B\n",
    "    G = A / (A + B)\n",
    "    return(G)\n",
    "#     print (G)"
   ]
  },
  {
   "cell_type": "code",
   "execution_count": 43,
   "metadata": {},
   "outputs": [
    {
     "data": {
      "image/png": "[encoded data removed]",
      "text/plain": [
       "<Figure size 432x288 with 1 Axes>"
      ]
     },
     "metadata": {
      "needs_background": "light"
     },
     "output_type": "display_data"
    }
   ],
   "source": [
    "import matplotlib.pyplot as plt\n",
    "import numpy as np\n",
    "\n",
    "# 函数：计算洛伦兹曲线\n",
    "def calculate_lorenz_curve(data):\n",
    "    data_sorted = np.sort(data)\n",
    "    cumulative_percentage = np.arange(1, len(data) + 1) / len(data)\n",
    "    lorenz_curve_y = np.cumsum(data_sorted) / np.sum(data_sorted)\n",
    "    return cumulative_percentage, lorenz_curve_y\n",
    "\n",
    "data1 = np.array([0,0,0,0,0,0,0,0,0,0,0,0,0,0,1,2,3,4,5,6,7,8,9,10,20,30,40,50,60,70,80,90,100])\n",
    "\n",
    "cumulative_percentage, lorenz_curve_y1 = calculate_lorenz_curve(data1)\n",
    "\n",
    "plt.plot(cumulative_percentage, lorenz_curve_y1, 'r-', label='高度不平等（指数分布）')\n",
    "\n",
    "plt.plot([0.42424242, 1], [0, 1], 'k--', label='完全平等线')\n",
    "\n",
    "plt.axvspan(0, 0.42424242, color='blue', alpha=0.2)  # alpha控制透明度\n",
    "plt.axvspan(0.42424242, 1, color='red', alpha=0.2)\n",
    "plt.xlim(0,1)\n",
    "plt.rcParams['svg.fonttype'] = 'none'\n",
    "plt.savefig('si2.svg')"
   ]
  },
  {
   "cell_type": "code",
   "execution_count": 4,
   "metadata": {},
   "outputs": [
    {
     "data": {
      "text/plain": [
       "0.71875"
      ]
     },
     "execution_count": 4,
     "metadata": {},
     "output_type": "execute_result"
    }
   ],
   "source": [
    "gini([0,0,0,0,10,20,30,100])"
   ]
  },
  {
   "cell_type": "code",
   "execution_count": 5,
   "metadata": {},
   "outputs": [
    {
     "data": {
      "text/plain": [
       "0.7583333333333333"
      ]
     },
     "execution_count": 5,
     "metadata": {},
     "output_type": "execute_result"
    }
   ],
   "source": [
    "gini([0,0,0,0,0,20,30,100])"
   ]
  },
  {
   "cell_type": "code",
   "execution_count": 6,
   "metadata": {},
   "outputs": [
    {
     "data": {
      "text/plain": [
       "0.655"
      ]
     },
     "execution_count": 6,
     "metadata": {},
     "output_type": "execute_result"
    }
   ],
   "source": [
    "gini([0,0,0,0,100,20,30,100])"
   ]
  },
  {
   "cell_type": "code",
   "execution_count": 9,
   "metadata": {},
   "outputs": [
    {
     "data": {
      "text/plain": [
       "0.6890243902439024"
      ]
     },
     "execution_count": 9,
     "metadata": {},
     "output_type": "execute_result"
    }
   ],
   "source": [
    "gini([1,1,1,1,10,20,30,100])"
   ]
  },
  {
   "cell_type": "code",
   "execution_count": 10,
   "metadata": {},
   "outputs": [
    {
     "data": {
      "text/plain": [
       "0.6368110236220472"
      ]
     },
     "execution_count": 10,
     "metadata": {},
     "output_type": "execute_result"
    }
   ],
   "source": [
    "gini([1,1,1,1,100,20,30,100])"
   ]
  },
  {
   "cell_type": "code",
   "execution_count": 11,
   "metadata": {},
   "outputs": [
    {
     "data": {
      "text/plain": [
       "0.06374999999999997"
      ]
     },
     "execution_count": 11,
     "metadata": {},
     "output_type": "execute_result"
    }
   ],
   "source": [
    "gini([0,0,0,0,10,20,30,100])-gini([0,0,0,0,100,20,30,100])"
   ]
  },
  {
   "cell_type": "code",
   "execution_count": 12,
   "metadata": {},
   "outputs": [
    {
     "data": {
      "text/plain": [
       "0.05221336662185516"
      ]
     },
     "execution_count": 12,
     "metadata": {},
     "output_type": "execute_result"
    }
   ],
   "source": [
    "gini([1,1,1,1,10,20,30,100])-gini([1,1,1,1,100,20,30,100])"
   ]
  },
  {
   "cell_type": "code",
   "execution_count": null,
   "metadata": {},
   "outputs": [],
   "source": []
  }
 ],
 "metadata": {
  "kernelspec": {
   "display_name": "Python 3",
   "language": "python",
   "name": "python3"
  },
  "language_info": {
   "codemirror_mode": {
    "name": "ipython",
    "version": 3
   },
   "file_extension": ".py",
   "mimetype": "text/x-python",
   "name": "python",
   "nbconvert_exporter": "python",
   "pygments_lexer": "ipython3",
   "version": "3.7.8"
  }
 },
 "nbformat": 4,
 "nbformat_minor": 4
}
