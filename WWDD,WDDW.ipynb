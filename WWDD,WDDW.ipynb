{
 "cells": [
  {
   "cell_type": "code",
   "execution_count": 1,
   "metadata": {},
   "outputs": [],
   "source": [
    "import numpy as np\n",
    "import pandas as pd\n",
    "import matplotlib as mpl\n",
    "import matplotlib.pyplot as pl\n",
    "import xarray as xr\n",
    "from scipy.integrate import odeint\n",
    "import regionmask\n",
    "import matplotlib.pylab as plt\n",
    "import cartopy.crs as ccrs\n",
    "import scipy.stats\n",
    "from scipy.stats import norm\n",
    "import statsmodels.api as sm\n",
    "from statsmodels.stats.outliers_influence import summary_table \n",
    "import time\n",
    "import warnings\n",
    "import seaborn as sns\n",
    "from sklearn.metrics import r2_score#print(r2_score(y3,y3_fitted))\n",
    "\n",
    "import xlrd\n",
    "import random\n",
    "####     ax.set_extent([-15, 45, 28, 76], crs=ccrs.PlateCarree())\n",
    "from sklearn import preprocessing\n",
    "robust = preprocessing.RobustScaler()\n",
    "warnings.filterwarnings('ignore')\n",
    "from matplotlib import cm\n",
    "from matplotlib.colors import ListedColormap\n",
    "from cartopy.util import add_cyclic_point"
   ]
  },
  {
   "cell_type": "markdown",
   "metadata": {},
   "source": [
    "# Pre"
   ]
  },
  {
   "cell_type": "markdown",
   "metadata": {},
   "source": [
    "# 空间GINI系数"
   ]
  },
  {
   "cell_type": "code",
   "execution_count": 2,
   "metadata": {},
   "outputs": [
    {
     "name": "stdout",
     "output_type": "stream",
     "text": [
      "/home/user/workdir/Pre\n"
     ]
    }
   ],
   "source": [
    "cd //home/user/workdir/Pre"
   ]
  },
  {
   "cell_type": "code",
   "execution_count": 3,
   "metadata": {},
   "outputs": [],
   "source": [
    "pre_50_55=xr.open_dataset('era5_regrid_50-55.nc')\n",
    "pre_56_85=xr.open_dataset('era5_regrid_56-85.nc')\n",
    "pre_86_09=xr.open_dataset('era5_regrid_86-09.nc')\n",
    "pre_10_20=xr.open_dataset('era5_regrid_10-20.nc')"
   ]
  },
  {
   "cell_type": "code",
   "execution_count": 4,
   "metadata": {},
   "outputs": [],
   "source": [
    "data=xr.open_dataset('era5_regrid_50-55.nc')"
   ]
  },
  {
   "cell_type": "code",
   "execution_count": 5,
   "metadata": {},
   "outputs": [],
   "source": [
    "pre_50_55_year=pre_50_55.groupby('time.year').mean('time')\n",
    "pre_56_85_year=pre_56_85.groupby('time.year').mean('time')\n",
    "pre_86_09_year=pre_86_09.groupby('time.year').mean('time')\n",
    "pre_10_20_year=pre_10_20.groupby('time.year').mean('time')"
   ]
  },
  {
   "cell_type": "code",
   "execution_count": 6,
   "metadata": {},
   "outputs": [],
   "source": [
    "pre_1_np=np.array(pre_50_55_year.tp)\n",
    "pre_2_np=np.array(pre_56_85_year.tp)\n",
    "pre_3_np=np.array(pre_86_09_year.tp)\n",
    "pre_4_np=np.array(pre_10_20_year.tp)"
   ]
  },
  {
   "cell_type": "code",
   "execution_count": 7,
   "metadata": {},
   "outputs": [],
   "source": [
    "pre_year_all=np.concatenate((pre_1_np,pre_2_np,pre_3_np,pre_4_np))##1950-2020"
   ]
  },
  {
   "cell_type": "code",
   "execution_count": 8,
   "metadata": {},
   "outputs": [],
   "source": [
    "pre_year_all[pre_year_all<0.001]=0"
   ]
  },
  {
   "cell_type": "code",
   "execution_count": 9,
   "metadata": {},
   "outputs": [],
   "source": [
    "pre_year_end=pre_year_all[1:,:,:]*1000*365#1970-2020"
   ]
  },
  {
   "cell_type": "code",
   "execution_count": 14,
   "metadata": {},
   "outputs": [
    {
     "data": {
      "text/plain": [
       "(70, 181, 360)"
      ]
     },
     "execution_count": 14,
     "metadata": {},
     "output_type": "execute_result"
    }
   ],
   "source": [
    "pre_year_end.shape"
   ]
  },
  {
   "cell_type": "markdown",
   "metadata": {},
   "source": [
    "# 区域计算  "
   ]
  },
  {
   "cell_type": "code",
   "execution_count": 10,
   "metadata": {},
   "outputs": [],
   "source": [
    "names=regionmask.defined_regions.ar6.land.names"
   ]
  },
  {
   "cell_type": "code",
   "execution_count": 11,
   "metadata": {},
   "outputs": [],
   "source": [
    "lat= pre_50_55.latitude\n",
    "lon=pre_50_55.longitude\n",
    "mask = regionmask.defined_regions.ar6.land.mask(lon, lat)"
   ]
  },
  {
   "cell_type": "code",
   "execution_count": 12,
   "metadata": {},
   "outputs": [],
   "source": [
    "mask_46=np.zeros((46,181,360))\n",
    "for i in range(0,46):\n",
    "    mask_temp=mask==i\n",
    "    mask_46[i,:]=mask_temp+0\n",
    "mask_46[mask_46==0]=np.nan"
   ]
  },
  {
   "cell_type": "code",
   "execution_count": 13,
   "metadata": {},
   "outputs": [
    {
     "name": "stdout",
     "output_type": "stream",
     "text": [
      "0\n",
      "1\n",
      "2\n",
      "3\n",
      "4\n",
      "5\n",
      "6\n",
      "7\n",
      "8\n",
      "9\n",
      "10\n",
      "11\n",
      "12\n",
      "13\n",
      "14\n",
      "15\n",
      "16\n",
      "17\n",
      "18\n",
      "19\n",
      "20\n",
      "21\n",
      "22\n",
      "23\n",
      "24\n",
      "25\n",
      "26\n",
      "27\n",
      "28\n",
      "29\n",
      "30\n",
      "31\n",
      "32\n",
      "33\n",
      "34\n",
      "35\n",
      "36\n",
      "37\n",
      "38\n",
      "39\n",
      "40\n",
      "41\n",
      "42\n",
      "43\n",
      "44\n",
      "45\n"
     ]
    }
   ],
   "source": [
    "pre_year_region=np.zeros((46,70))\n",
    "for i in range(0,46):\n",
    "    print(i)\n",
    "    pre_year_region[i,:]=np.nanmean(np.nanmean(pre_year_end[:,:,:]*mask_46[i,:],axis=1),axis=1)\n"
   ]
  },
  {
   "cell_type": "code",
   "execution_count": 14,
   "metadata": {},
   "outputs": [],
   "source": [
    "pre_year_region_mean=np.nanmean(pre_year_region[:,0:20],axis=1)"
   ]
  },
  {
   "cell_type": "markdown",
   "metadata": {},
   "source": [
    "# 空间GINI系数"
   ]
  },
  {
   "cell_type": "code",
   "execution_count": 15,
   "metadata": {},
   "outputs": [],
   "source": [
    "def gini(wealths):\n",
    "    cum_wealths = np.cumsum(sorted(np.append(wealths, 0)))\n",
    "    sum_wealths = cum_wealths[-1]\n",
    "    xarray = np.array(range(0, len(cum_wealths))) / np.float(len(cum_wealths) - 1)\n",
    "    upper = xarray\n",
    "    yarray = cum_wealths / sum_wealths\n",
    "#     pl.plot(xarray, yarray)\n",
    "#     pl.plot(xarray, upper)\n",
    "    B = np.trapz(yarray, x=xarray)\n",
    "    A = 0.5 - B\n",
    "    G = A / (A + B)\n",
    "    return(G)\n",
    "#     print (G)"
   ]
  },
  {
   "cell_type": "code",
   "execution_count": 16,
   "metadata": {},
   "outputs": [],
   "source": [
    "index_nan=np.zeros((46,1))\n",
    "for mask_index in range(0,46):\n",
    "    data_region=np.array(pd.DataFrame(np.array(pre_year_end[1,:,:]*mask_46[mask_index,:,:])).fillna(9999))\n",
    "    data_flatten =data_region.flatten(('c'))\n",
    "    data_flatten.sort()\n",
    "    index=np.sum(data_flatten == 9999)\n",
    "    index_nan[mask_index]=index\n",
    "index_region=65160-index_nan"
   ]
  },
  {
   "cell_type": "code",
   "execution_count": 17,
   "metadata": {},
   "outputs": [],
   "source": [
    "gini_space=np.zeros((46,70))\n",
    "for region in range(0,46):\n",
    "    for year in range(0,70):\n",
    "        data_temp=np.array(pd.DataFrame(pre_year_end[year,:,:]*mask_46[region,:,:]).fillna(9999))\n",
    "        data_flatten=data_temp.flatten(('c'))\n",
    "        data_flatten.sort()\n",
    "        data_list=data_flatten[0:int(index_region[region])]\n",
    "        gini_this=gini(data_list)\n",
    "        gini_space[region,year]=gini_this"
   ]
  },
  {
   "cell_type": "code",
   "execution_count": 18,
   "metadata": {},
   "outputs": [
    {
     "data": {
      "text/plain": [
       "<matplotlib.legend.Legend at 0x1471c6c46f90>"
      ]
     },
     "execution_count": 18,
     "metadata": {},
     "output_type": "execute_result"
    },
    {
     "data": {
      "image/png": "[encoded data removed]",
      "text/plain": [
       "<Figure size 432x288 with 1 Axes>"
      ]
     },
     "metadata": {
      "needs_background": "light"
     },
     "output_type": "display_data"
    }
   ],
   "source": [
    "import matplotlib.pyplot as plt\n",
    "import numpy as np\n",
    "\n",
    "# 函数：计算洛伦兹曲线\n",
    "def calculate_lorenz_curve(data):\n",
    "    data_sorted = np.sort(data)\n",
    "    cumulative_percentage = np.arange(1, len(data) + 1) / len(data)\n",
    "    lorenz_curve_y = np.cumsum(data_sorted) / np.sum(data_sorted)\n",
    "    return cumulative_percentage, lorenz_curve_y\n",
    "\n",
    "# 生成三组数据\n",
    "# 数据集1：高度不平等，使用指数分布\n",
    "data1 = np.random.exponential(scale=1000, size=1000)\n",
    "\n",
    "# 数据集2：中等不平等，使用正态分布\n",
    "data2 = np.random.normal(loc=500, scale=300, size=1000)\n",
    "\n",
    "# 数据集3：接近平等，使用均匀分布\n",
    "data3 = np.random.uniform(low=100, high=1100, size=1000)\n",
    "\n",
    "# 计算每组数据的洛伦兹曲线\n",
    "cumulative_percentage, lorenz_curve_y1 = calculate_lorenz_curve(data1)\n",
    "_, lorenz_curve_y2 = calculate_lorenz_curve(data2)\n",
    "_, lorenz_curve_y3 = calculate_lorenz_curve(data3)\n",
    "\n",
    "# 绘制洛伦兹曲线\n",
    "plt.plot(cumulative_percentage, lorenz_curve_y1, 'r-', label='高度不平等（指数分布）')\n",
    "plt.plot(cumulative_percentage, lorenz_curve_y2, 'g-', label='中等不平等（正态分布）')\n",
    "plt.plot(cumulative_percentage, lorenz_curve_y3, 'b-', label='接近平等（均匀分布）')\n",
    "\n",
    "# 绘制完全平等线（45度线）\n",
    "plt.plot([0, 1], [0, 1], 'k--', label='完全平等线')\n",
    "\n",
    "# 设置图表标题和标签\n",
    "plt.title('三条差异明显的洛伦兹曲线')\n",
    "plt.xlabel('累积人口百分比')\n",
    "plt.ylabel('累积财富百分比')\n",
    "plt.legend()\n",
    "\n",
    "# 显示图表"
   ]
  },
  {
   "cell_type": "code",
   "execution_count": 19,
   "metadata": {},
   "outputs": [
    {
     "data": {
      "image/png": "[encoded data removed]",
      "text/plain": [
       "<Figure size 432x288 with 1 Axes>"
      ]
     },
     "metadata": {
      "needs_background": "light"
     },
     "output_type": "display_data"
    }
   ],
   "source": [
    "def calculate_lorenz_curve(data):\n",
    "    data_sorted = np.sort(data)\n",
    "    cumulative_percentage = np.arange(1, len(data) + 1) / len(data)\n",
    "    lorenz_curve_y = np.cumsum(data_sorted) / np.sum(data_sorted)\n",
    "    return cumulative_percentage, lorenz_curve_y\n",
    "\n",
    "for region in range(23,24):\n",
    "    cumulative_percentage_cum=np.zeros((20,236))\n",
    "    lorenz_curve_y1_cum=np.zeros((20,236))\n",
    "    for year in range(0,20):\n",
    "        data_temp=np.array(pd.DataFrame(pre_year_end[year,:,:]*mask_46[region,:,:]).fillna(9999))\n",
    "        data_flatten=data_temp.flatten(('c'))\n",
    "        data_flatten.sort()\n",
    "        data_list=data_flatten[0:int(index_region[region])]\n",
    "        data1 = data_list\n",
    "        # 计算每组数据的洛伦兹曲线\n",
    "        cumulative_percentage, lorenz_curve_y1 = calculate_lorenz_curve(data1)\n",
    "        cumulative_percentage_cum[year,:]=cumulative_percentage\n",
    "        lorenz_curve_y1_cum[year,:]=lorenz_curve_y1\n",
    "    cumulative_percentage_mean1=np.nanmean(cumulative_percentage_cum,axis=0)\n",
    "    lorenz_curve_y1_mean1=np.nanmean(lorenz_curve_y1_cum,axis=0)\n",
    "        # 绘制洛伦兹曲线\n",
    "    plt.plot(cumulative_percentage_mean1 ,lorenz_curve_y1_mean1, 'r-', label='1951')\n",
    "    #plt.plot(cumulative_percentage, lorenz_curve_y2, 'g-', label='1985')\n",
    "    #plt.plot(cumulative_percentage, lorenz_curve_y3, 'b-', label='2020')\n",
    "\n",
    "    # 绘制完全平等线（45度线）\n",
    "    plt.plot([0, 1], [0, 1], 'k--', label='1:1')\n",
    "\n",
    "    # 设置图表标题和标签\n",
    "    plt.title('三条差异明显的洛伦兹曲线')\n",
    "    plt.xlabel('累积人口百分比')\n",
    "    plt.ylabel('累积财富百分比')\n"
   ]
  },
  {
   "cell_type": "code",
   "execution_count": 34,
   "metadata": {},
   "outputs": [],
   "source": [
    "def calculate_lorenz_curve(data):\n",
    "    data_sorted = np.sort(data)\n",
    "    cumulative_percentage = np.arange(1, len(data) + 1) / len(data)\n",
    "    lorenz_curve_y = np.cumsum(data_sorted) / np.sum(data_sorted)\n",
    "    return cumulative_percentage, lorenz_curve_y\n",
    "\n",
    "for region in range(23,24):\n",
    "    cumulative_percentage_cum=np.zeros((20,236))\n",
    "    lorenz_curve_y1_cum=np.zeros((20,236))\n",
    "    for year in range(20,40):\n",
    "        data_temp=np.array(pd.DataFrame(pre_year_end[year,:,:]*mask_46[region,:,:]).fillna(9999))\n",
    "        data_flatten=data_temp.flatten(('c'))\n",
    "        data_flatten.sort()\n",
    "        data_list=data_flatten[0:int(index_region[region])]\n",
    "        data1 = data_list\n",
    "        # 计算每组数据的洛伦兹曲线\n",
    "        cumulative_percentage, lorenz_curve_y1 = calculate_lorenz_curve(data1)\n",
    "        cumulative_percentage_cum[year-20,:]=cumulative_percentage\n",
    "        lorenz_curve_y1_cum[year-20,:]=lorenz_curve_y1\n",
    "    cumulative_percentage_mean2=np.nanmean(cumulative_percentage_cum,axis=0)\n",
    "    lorenz_curve_y1_mean2=np.nanmean(lorenz_curve_y1_cum,axis=0)\n",
    " "
   ]
  },
  {
   "cell_type": "code",
   "execution_count": 35,
   "metadata": {},
   "outputs": [],
   "source": [
    "def calculate_lorenz_curve(data):\n",
    "    data_sorted = np.sort(data)\n",
    "    cumulative_percentage = np.arange(1, len(data) + 1) / len(data)\n",
    "    lorenz_curve_y = np.cumsum(data_sorted) / np.sum(data_sorted)\n",
    "    return cumulative_percentage, lorenz_curve_y\n",
    "\n",
    "for region in range(23,24):\n",
    "    cumulative_percentage_cum=np.zeros((20,236))\n",
    "    lorenz_curve_y1_cum=np.zeros((20,236))\n",
    "    for year in range(50,70):\n",
    "        data_temp=np.array(pd.DataFrame(pre_year_end[year,:,:]*mask_46[region,:,:]).fillna(9999))\n",
    "        data_flatten=data_temp.flatten(('c'))\n",
    "        data_flatten.sort()\n",
    "        data_list=data_flatten[0:int(index_region[region])]\n",
    "        data1 = data_list\n",
    "        # 计算每组数据的洛伦兹曲线\n",
    "        cumulative_percentage, lorenz_curve_y1 = calculate_lorenz_curve(data1)\n",
    "        cumulative_percentage_cum[year-50,:]=cumulative_percentage\n",
    "        lorenz_curve_y1_cum[year-50,:]=lorenz_curve_y1\n",
    "    cumulative_percentage_mean3=np.nanmean(cumulative_percentage_cum,axis=0)\n",
    "    lorenz_curve_y1_mean3=np.nanmean(lorenz_curve_y1_cum,axis=0)\n",
    " "
   ]
  },
  {
   "cell_type": "code",
   "execution_count": 22,
   "metadata": {},
   "outputs": [
    {
     "name": "stdout",
     "output_type": "stream",
     "text": [
      "/home/user/降雨/Gini系数/Figure/v_5（和师兄老板讨论完后）/ex1\n"
     ]
    }
   ],
   "source": [
    "cd /home/user/降雨/Gini系数/Figure/v_5（和师兄老板讨论完后）/ex1"
   ]
  },
  {
   "cell_type": "code",
   "execution_count": 36,
   "metadata": {},
   "outputs": [
    {
     "data": {
      "image/png": "[encoded data removed]",
      "text/plain": [
       "<Figure size 360x360 with 1 Axes>"
      ]
     },
     "metadata": {
      "needs_background": "light"
     },
     "output_type": "display_data"
    }
   ],
   "source": [
    "\n",
    "plt.figure(figsize=(5,5))\n",
    "plt.plot(cumulative_percentage_mean1 ,lorenz_curve_y1_mean1, 'r-', label='1951-1970')\n",
    "#plt.plot(cumulative_percentage_mean2 ,lorenz_curve_y1_mean2, 'g-', label='1971-1990')\n",
    "plt.plot(cumulative_percentage_mean3 ,lorenz_curve_y1_mean3, 'b-', label='2001-2020')\n",
    "#plt.plot(cumulative_percentage, lorenz_curve_y3, 'b-', label='2020')\n",
    "plt.plot([0, 1], [0, 1], 'k--', label='1:1')\n",
    "\n",
    "plt.legend()\n",
    "plt.title('NEAF Spatial Gini')\n",
    "plt.xlim(0,1)\n",
    "plt.ylim(0,1)\n",
    "plt.rcParams['svg.fonttype'] = 'none'\n",
    "plt.savefig('ex1a.svg')"
   ]
  },
  {
   "cell_type": "markdown",
   "metadata": {},
   "source": [
    "# CAF"
   ]
  },
  {
   "cell_type": "code",
   "execution_count": 24,
   "metadata": {},
   "outputs": [],
   "source": [
    "def calculate_lorenz_curve(data):\n",
    "    data_sorted = np.sort(data)\n",
    "    cumulative_percentage = np.arange(1, len(data) + 1) / len(data)\n",
    "    lorenz_curve_y = np.cumsum(data_sorted) / np.sum(data_sorted)\n",
    "    return cumulative_percentage, lorenz_curve_y\n",
    "\n",
    "for region in range(22,23):\n",
    "    cumulative_percentage_cum=np.zeros((20,384))\n",
    "    lorenz_curve_y1_cum=np.zeros((20,384))\n",
    "    for year in range(0,20):\n",
    "        data_temp=np.array(pd.DataFrame(pre_year_end[year,:,:]*mask_46[region,:,:]).fillna(9999))\n",
    "        data_flatten=data_temp.flatten(('c'))\n",
    "        data_flatten.sort()\n",
    "        data_list=data_flatten[0:int(index_region[region])]\n",
    "        data1 = data_list\n",
    "        # 计算每组数据的洛伦兹曲线\n",
    "        cumulative_percentage, lorenz_curve_y1 = calculate_lorenz_curve(data1)\n",
    "        cumulative_percentage_cum[year,:]=cumulative_percentage\n",
    "        lorenz_curve_y1_cum[year,:]=lorenz_curve_y1\n",
    "    cumulative_percentage_mean1=np.nanmean(cumulative_percentage_cum,axis=0)\n",
    "    lorenz_curve_y1_mean1=np.nanmean(lorenz_curve_y1_cum,axis=0)\n",
    "\n"
   ]
  },
  {
   "cell_type": "code",
   "execution_count": 25,
   "metadata": {},
   "outputs": [],
   "source": [
    "for region in range(22,23):\n",
    "    cumulative_percentage_cum=np.zeros((20,384))\n",
    "    lorenz_curve_y1_cum=np.zeros((20,384))\n",
    "    for year in range(50,70):\n",
    "        data_temp=np.array(pd.DataFrame(pre_year_end[year,:,:]*mask_46[region,:,:]).fillna(9999))\n",
    "        data_flatten=data_temp.flatten(('c'))\n",
    "        data_flatten.sort()\n",
    "        data_list=data_flatten[0:int(index_region[region])]\n",
    "        data1 = data_list\n",
    "        # 计算每组数据的洛伦兹曲线\n",
    "        cumulative_percentage, lorenz_curve_y1 = calculate_lorenz_curve(data1)\n",
    "        cumulative_percentage_cum[year-50,:]=cumulative_percentage\n",
    "        lorenz_curve_y1_cum[year-50,:]=lorenz_curve_y1\n",
    "    cumulative_percentage_mean3=np.nanmean(cumulative_percentage_cum,axis=0)\n",
    "    lorenz_curve_y1_mean3=np.nanmean(lorenz_curve_y1_cum,axis=0)\n",
    " "
   ]
  },
  {
   "cell_type": "code",
   "execution_count": 33,
   "metadata": {},
   "outputs": [
    {
     "data": {
      "image/png": "[encoded data removed]",
      "text/plain": [
       "<Figure size 360x360 with 1 Axes>"
      ]
     },
     "metadata": {
      "needs_background": "light"
     },
     "output_type": "display_data"
    }
   ],
   "source": [
    "plt.figure(figsize=(5,5))\n",
    "plt.plot(cumulative_percentage_mean1 ,lorenz_curve_y1_mean1, 'r-', label='1951-1970')\n",
    "#plt.plot(cumulative_percentage_mean2 ,lorenz_curve_y1_mean2, 'g-', label='1971-1990')\n",
    "plt.plot(cumulative_percentage_mean3 ,lorenz_curve_y1_mean3, 'b-', label='2001-2020')\n",
    "#plt.plot(cumulative_percentage, lorenz_curve_y3, 'b-', label='2020')\n",
    "plt.plot([0, 1], [0, 1], 'k--', label='1:1')\n",
    "plt.legend()\n",
    "plt.xlim(0,1)\n",
    "plt.ylim(0,1)\n",
    "plt.title('CAF Spatial Gini')\n",
    "plt.rcParams['svg.fonttype'] = 'none'\n",
    "plt.savefig('ex1b.svg')"
   ]
  },
  {
   "cell_type": "code",
   "execution_count": 70,
   "metadata": {},
   "outputs": [
    {
     "data": {
      "text/html": [
       "<div><svg style=\"position: absolute; width: 0; height: 0; overflow: hidden\">\n",
       "<defs>\n",
       "<symbol id=\"icon-database\" viewBox=\"0 0 32 32\">\n",
       "<path d=\"M16 0c-8.837 0-16 2.239-16 5v4c0 2.761 7.163 5 16 5s16-2.239 16-5v-4c0-2.761-7.163-5-16-5z\"></path>\n",
       "<path d=\"M16 17c-8.837 0-16-2.239-16-5v6c0 2.761 7.163 5 16 5s16-2.239 16-5v-6c0 2.761-7.163 5-16 5z\"></path>\n",
       "<path d=\"M16 26c-8.837 0-16-2.239-16-5v6c0 2.761 7.163 5 16 5s16-2.239 16-5v-6c0 2.761-7.163 5-16 5z\"></path>\n",
       "</symbol>\n",
       "<symbol id=\"icon-file-text2\" viewBox=\"0 0 32 32\">\n",
       "<path d=\"M28.681 7.159c-0.694-0.947-1.662-2.053-2.724-3.116s-2.169-2.030-3.116-2.724c-1.612-1.182-2.393-1.319-2.841-1.319h-15.5c-1.378 0-2.5 1.121-2.5 2.5v27c0 1.378 1.122 2.5 2.5 2.5h23c1.378 0 2.5-1.122 2.5-2.5v-19.5c0-0.448-0.137-1.23-1.319-2.841zM24.543 5.457c0.959 0.959 1.712 1.825 2.268 2.543h-4.811v-4.811c0.718 0.556 1.584 1.309 2.543 2.268zM28 29.5c0 0.271-0.229 0.5-0.5 0.5h-23c-0.271 0-0.5-0.229-0.5-0.5v-27c0-0.271 0.229-0.5 0.5-0.5 0 0 15.499-0 15.5 0v7c0 0.552 0.448 1 1 1h7v19.5z\"></path>\n",
       "<path d=\"M23 26h-14c-0.552 0-1-0.448-1-1s0.448-1 1-1h14c0.552 0 1 0.448 1 1s-0.448 1-1 1z\"></path>\n",
       "<path d=\"M23 22h-14c-0.552 0-1-0.448-1-1s0.448-1 1-1h14c0.552 0 1 0.448 1 1s-0.448 1-1 1z\"></path>\n",
       "<path d=\"M23 18h-14c-0.552 0-1-0.448-1-1s0.448-1 1-1h14c0.552 0 1 0.448 1 1s-0.448 1-1 1z\"></path>\n",
       "</symbol>\n",
       "</defs>\n",
       "</svg>\n",
       "<style>/* CSS stylesheet for displaying xarray objects in jupyterlab.\n",
       " *\n",
       " */\n",
       "\n",
       ":root {\n",
       "  --xr-font-color0: var(--jp-content-font-color0, rgba(0, 0, 0, 1));\n",
       "  --xr-font-color2: var(--jp-content-font-color2, rgba(0, 0, 0, 0.54));\n",
       "  --xr-font-color3: var(--jp-content-font-color3, rgba(0, 0, 0, 0.38));\n",
       "  --xr-border-color: var(--jp-border-color2, #e0e0e0);\n",
       "  --xr-disabled-color: var(--jp-layout-color3, #bdbdbd);\n",
       "  --xr-background-color: var(--jp-layout-color0, white);\n",
       "  --xr-background-color-row-even: var(--jp-layout-color1, white);\n",
       "  --xr-background-color-row-odd: var(--jp-layout-color2, #eeeeee);\n",
       "}\n",
       "\n",
       "html[theme=dark],\n",
       "body.vscode-dark {\n",
       "  --xr-font-color0: rgba(255, 255, 255, 1);\n",
       "  --xr-font-color2: rgba(255, 255, 255, 0.54);\n",
       "  --xr-font-color3: rgba(255, 255, 255, 0.38);\n",
       "  --xr-border-color: #1F1F1F;\n",
       "  --xr-disabled-color: #515151;\n",
       "  --xr-background-color: #111111;\n",
       "  --xr-background-color-row-even: #111111;\n",
       "  --xr-background-color-row-odd: #313131;\n",
       "}\n",
       "\n",
       ".xr-wrap {\n",
       "  display: block;\n",
       "  min-width: 300px;\n",
       "  max-width: 700px;\n",
       "}\n",
       "\n",
       ".xr-text-repr-fallback {\n",
       "  /* fallback to plain text repr when CSS is not injected (untrusted notebook) */\n",
       "  display: none;\n",
       "}\n",
       "\n",
       ".xr-header {\n",
       "  padding-top: 6px;\n",
       "  padding-bottom: 6px;\n",
       "  margin-bottom: 4px;\n",
       "  border-bottom: solid 1px var(--xr-border-color);\n",
       "}\n",
       "\n",
       ".xr-header > div,\n",
       ".xr-header > ul {\n",
       "  display: inline;\n",
       "  margin-top: 0;\n",
       "  margin-bottom: 0;\n",
       "}\n",
       "\n",
       ".xr-obj-type,\n",
       ".xr-array-name {\n",
       "  margin-left: 2px;\n",
       "  margin-right: 10px;\n",
       "}\n",
       "\n",
       ".xr-obj-type {\n",
       "  color: var(--xr-font-color2);\n",
       "}\n",
       "\n",
       ".xr-sections {\n",
       "  padding-left: 0 !important;\n",
       "  display: grid;\n",
       "  grid-template-columns: 150px auto auto 1fr 20px 20px;\n",
       "}\n",
       "\n",
       ".xr-section-item {\n",
       "  display: contents;\n",
       "}\n",
       "\n",
       ".xr-section-item input {\n",
       "  display: none;\n",
       "}\n",
       "\n",
       ".xr-section-item input + label {\n",
       "  color: var(--xr-disabled-color);\n",
       "}\n",
       "\n",
       ".xr-section-item input:enabled + label {\n",
       "  cursor: pointer;\n",
       "  color: var(--xr-font-color2);\n",
       "}\n",
       "\n",
       ".xr-section-item input:enabled + label:hover {\n",
       "  color: var(--xr-font-color0);\n",
       "}\n",
       "\n",
       ".xr-section-summary {\n",
       "  grid-column: 1;\n",
       "  color: var(--xr-font-color2);\n",
       "  font-weight: 500;\n",
       "}\n",
       "\n",
       ".xr-section-summary > span {\n",
       "  display: inline-block;\n",
       "  padding-left: 0.5em;\n",
       "}\n",
       "\n",
       ".xr-section-summary-in:disabled + label {\n",
       "  color: var(--xr-font-color2);\n",
       "}\n",
       "\n",
       ".xr-section-summary-in + label:before {\n",
       "  display: inline-block;\n",
       "  content: '►';\n",
       "  font-size: 11px;\n",
       "  width: 15px;\n",
       "  text-align: center;\n",
       "}\n",
       "\n",
       ".xr-section-summary-in:disabled + label:before {\n",
       "  color: var(--xr-disabled-color);\n",
       "}\n",
       "\n",
       ".xr-section-summary-in:checked + label:before {\n",
       "  content: '▼';\n",
       "}\n",
       "\n",
       ".xr-section-summary-in:checked + label > span {\n",
       "  display: none;\n",
       "}\n",
       "\n",
       ".xr-section-summary,\n",
       ".xr-section-inline-details {\n",
       "  padding-top: 4px;\n",
       "  padding-bottom: 4px;\n",
       "}\n",
       "\n",
       ".xr-section-inline-details {\n",
       "  grid-column: 2 / -1;\n",
       "}\n",
       "\n",
       ".xr-section-details {\n",
       "  display: none;\n",
       "  grid-column: 1 / -1;\n",
       "  margin-bottom: 5px;\n",
       "}\n",
       "\n",
       ".xr-section-summary-in:checked ~ .xr-section-details {\n",
       "  display: contents;\n",
       "}\n",
       "\n",
       ".xr-array-wrap {\n",
       "  grid-column: 1 / -1;\n",
       "  display: grid;\n",
       "  grid-template-columns: 20px auto;\n",
       "}\n",
       "\n",
       ".xr-array-wrap > label {\n",
       "  grid-column: 1;\n",
       "  vertical-align: top;\n",
       "}\n",
       "\n",
       ".xr-preview {\n",
       "  color: var(--xr-font-color3);\n",
       "}\n",
       "\n",
       ".xr-array-preview,\n",
       ".xr-array-data {\n",
       "  padding: 0 5px !important;\n",
       "  grid-column: 2;\n",
       "}\n",
       "\n",
       ".xr-array-data,\n",
       ".xr-array-in:checked ~ .xr-array-preview {\n",
       "  display: none;\n",
       "}\n",
       "\n",
       ".xr-array-in:checked ~ .xr-array-data,\n",
       ".xr-array-preview {\n",
       "  display: inline-block;\n",
       "}\n",
       "\n",
       ".xr-dim-list {\n",
       "  display: inline-block !important;\n",
       "  list-style: none;\n",
       "  padding: 0 !important;\n",
       "  margin: 0;\n",
       "}\n",
       "\n",
       ".xr-dim-list li {\n",
       "  display: inline-block;\n",
       "  padding: 0;\n",
       "  margin: 0;\n",
       "}\n",
       "\n",
       ".xr-dim-list:before {\n",
       "  content: '(';\n",
       "}\n",
       "\n",
       ".xr-dim-list:after {\n",
       "  content: ')';\n",
       "}\n",
       "\n",
       ".xr-dim-list li:not(:last-child):after {\n",
       "  content: ',';\n",
       "  padding-right: 5px;\n",
       "}\n",
       "\n",
       ".xr-has-index {\n",
       "  font-weight: bold;\n",
       "}\n",
       "\n",
       ".xr-var-list,\n",
       ".xr-var-item {\n",
       "  display: contents;\n",
       "}\n",
       "\n",
       ".xr-var-item > div,\n",
       ".xr-var-item label,\n",
       ".xr-var-item > .xr-var-name span {\n",
       "  background-color: var(--xr-background-color-row-even);\n",
       "  margin-bottom: 0;\n",
       "}\n",
       "\n",
       ".xr-var-item > .xr-var-name:hover span {\n",
       "  padding-right: 5px;\n",
       "}\n",
       "\n",
       ".xr-var-list > li:nth-child(odd) > div,\n",
       ".xr-var-list > li:nth-child(odd) > label,\n",
       ".xr-var-list > li:nth-child(odd) > .xr-var-name span {\n",
       "  background-color: var(--xr-background-color-row-odd);\n",
       "}\n",
       "\n",
       ".xr-var-name {\n",
       "  grid-column: 1;\n",
       "}\n",
       "\n",
       ".xr-var-dims {\n",
       "  grid-column: 2;\n",
       "}\n",
       "\n",
       ".xr-var-dtype {\n",
       "  grid-column: 3;\n",
       "  text-align: right;\n",
       "  color: var(--xr-font-color2);\n",
       "}\n",
       "\n",
       ".xr-var-preview {\n",
       "  grid-column: 4;\n",
       "}\n",
       "\n",
       ".xr-var-name,\n",
       ".xr-var-dims,\n",
       ".xr-var-dtype,\n",
       ".xr-preview,\n",
       ".xr-attrs dt {\n",
       "  white-space: nowrap;\n",
       "  overflow: hidden;\n",
       "  text-overflow: ellipsis;\n",
       "  padding-right: 10px;\n",
       "}\n",
       "\n",
       ".xr-var-name:hover,\n",
       ".xr-var-dims:hover,\n",
       ".xr-var-dtype:hover,\n",
       ".xr-attrs dt:hover {\n",
       "  overflow: visible;\n",
       "  width: auto;\n",
       "  z-index: 1;\n",
       "}\n",
       "\n",
       ".xr-var-attrs,\n",
       ".xr-var-data {\n",
       "  display: none;\n",
       "  background-color: var(--xr-background-color) !important;\n",
       "  padding-bottom: 5px !important;\n",
       "}\n",
       "\n",
       ".xr-var-attrs-in:checked ~ .xr-var-attrs,\n",
       ".xr-var-data-in:checked ~ .xr-var-data {\n",
       "  display: block;\n",
       "}\n",
       "\n",
       ".xr-var-data > table {\n",
       "  float: right;\n",
       "}\n",
       "\n",
       ".xr-var-name span,\n",
       ".xr-var-data,\n",
       ".xr-attrs {\n",
       "  padding-left: 25px !important;\n",
       "}\n",
       "\n",
       ".xr-attrs,\n",
       ".xr-var-attrs,\n",
       ".xr-var-data {\n",
       "  grid-column: 1 / -1;\n",
       "}\n",
       "\n",
       "dl.xr-attrs {\n",
       "  padding: 0;\n",
       "  margin: 0;\n",
       "  display: grid;\n",
       "  grid-template-columns: 125px auto;\n",
       "}\n",
       "\n",
       ".xr-attrs dt, dd {\n",
       "  padding: 0;\n",
       "  margin: 0;\n",
       "  float: left;\n",
       "  padding-right: 10px;\n",
       "  width: auto;\n",
       "}\n",
       "\n",
       ".xr-attrs dt {\n",
       "  font-weight: normal;\n",
       "  grid-column: 1;\n",
       "}\n",
       "\n",
       ".xr-attrs dt:hover span {\n",
       "  display: inline-block;\n",
       "  background: var(--xr-background-color);\n",
       "  padding-right: 10px;\n",
       "}\n",
       "\n",
       ".xr-attrs dd {\n",
       "  grid-column: 2;\n",
       "  white-space: pre-wrap;\n",
       "  word-break: break-all;\n",
       "}\n",
       "\n",
       ".xr-icon-database,\n",
       ".xr-icon-file-text2 {\n",
       "  display: inline-block;\n",
       "  vertical-align: middle;\n",
       "  width: 1em;\n",
       "  height: 1.5em !important;\n",
       "  stroke-width: 0;\n",
       "  stroke: currentColor;\n",
       "  fill: currentColor;\n",
       "}\n",
       "</style><pre class='xr-text-repr-fallback'>&lt;xarray.Dataset&gt;\n",
       "Dimensions:    (latitude: 181, longitude: 360, time: 2190)\n",
       "Coordinates:\n",
       "  * time       (time) datetime64[ns] 1950-01-02 1950-01-03 ... 1955-12-31\n",
       "  * longitude  (longitude) float32 0.0 1.0 2.0 3.0 ... 356.0 357.0 358.0 359.0\n",
       "  * latitude   (latitude) float32 90.0 89.0 88.0 87.0 ... -88.0 -89.0 -90.0\n",
       "Data variables:\n",
       "    tp         (time, latitude, longitude) float32 ...\n",
       "Attributes:\n",
       "    CDI:          Climate Data Interface version 1.9.10 (https://mpimet.mpg.d...\n",
       "    Conventions:  CF-1.6\n",
       "    history:      Mon Oct 03 10:43:04 2022: cdo samplegrid,10 era5_50-55.nc e...\n",
       "    CDO:          Climate Data Operators version 1.9.10 (https://mpimet.mpg.d...</pre><div class='xr-wrap' hidden><div class='xr-header'><div class='xr-obj-type'>xarray.Dataset</div></div><ul class='xr-sections'><li class='xr-section-item'><input id='section-3fc00f79-4bbe-4945-bf26-66cd029b96f9' class='xr-section-summary-in' type='checkbox' disabled ><label for='section-3fc00f79-4bbe-4945-bf26-66cd029b96f9' class='xr-section-summary'  title='Expand/collapse section'>Dimensions:</label><div class='xr-section-inline-details'><ul class='xr-dim-list'><li><span class='xr-has-index'>latitude</span>: 181</li><li><span class='xr-has-index'>longitude</span>: 360</li><li><span class='xr-has-index'>time</span>: 2190</li></ul></div><div class='xr-section-details'></div></li><li class='xr-section-item'><input id='section-10e1d438-82f2-46ab-8d1a-b83a07952ff3' class='xr-section-summary-in' type='checkbox'  checked><label for='section-10e1d438-82f2-46ab-8d1a-b83a07952ff3' class='xr-section-summary' >Coordinates: <span>(3)</span></label><div class='xr-section-inline-details'></div><div class='xr-section-details'><ul class='xr-var-list'><li class='xr-var-item'><div class='xr-var-name'><span class='xr-has-index'>time</span></div><div class='xr-var-dims'>(time)</div><div class='xr-var-dtype'>datetime64[ns]</div><div class='xr-var-preview xr-preview'>1950-01-02 ... 1955-12-31</div><input id='attrs-6452497d-f16a-4c8e-bbce-05ec1df8441e' class='xr-var-attrs-in' type='checkbox' ><label for='attrs-6452497d-f16a-4c8e-bbce-05ec1df8441e' title='Show/Hide attributes'><svg class='icon xr-icon-file-text2'><use xlink:href='#icon-file-text2'></use></svg></label><input id='data-03495602-531d-4e10-9a8f-8dad081d1503' class='xr-var-data-in' type='checkbox'><label for='data-03495602-531d-4e10-9a8f-8dad081d1503' title='Show/Hide data repr'><svg class='icon xr-icon-database'><use xlink:href='#icon-database'></use></svg></label><div class='xr-var-attrs'><dl class='xr-attrs'><dt><span>standard_name :</span></dt><dd>time</dd><dt><span>long_name :</span></dt><dd>time</dd><dt><span>axis :</span></dt><dd>T</dd></dl></div><div class='xr-var-data'><pre>array([&#x27;1950-01-02T00:00:00.000000000&#x27;, &#x27;1950-01-03T00:00:00.000000000&#x27;,\n",
       "       &#x27;1950-01-04T00:00:00.000000000&#x27;, ..., &#x27;1955-12-29T00:00:00.000000000&#x27;,\n",
       "       &#x27;1955-12-30T00:00:00.000000000&#x27;, &#x27;1955-12-31T00:00:00.000000000&#x27;],\n",
       "      dtype=&#x27;datetime64[ns]&#x27;)</pre></div></li><li class='xr-var-item'><div class='xr-var-name'><span class='xr-has-index'>longitude</span></div><div class='xr-var-dims'>(longitude)</div><div class='xr-var-dtype'>float32</div><div class='xr-var-preview xr-preview'>0.0 1.0 2.0 ... 357.0 358.0 359.0</div><input id='attrs-c9d1e135-6274-422f-99c0-34637ee1e8c2' class='xr-var-attrs-in' type='checkbox' ><label for='attrs-c9d1e135-6274-422f-99c0-34637ee1e8c2' title='Show/Hide attributes'><svg class='icon xr-icon-file-text2'><use xlink:href='#icon-file-text2'></use></svg></label><input id='data-2b6287d3-a594-4edc-9054-609474a86e9b' class='xr-var-data-in' type='checkbox'><label for='data-2b6287d3-a594-4edc-9054-609474a86e9b' title='Show/Hide data repr'><svg class='icon xr-icon-database'><use xlink:href='#icon-database'></use></svg></label><div class='xr-var-attrs'><dl class='xr-attrs'><dt><span>standard_name :</span></dt><dd>longitude</dd><dt><span>long_name :</span></dt><dd>longitude</dd><dt><span>units :</span></dt><dd>degrees_east</dd><dt><span>axis :</span></dt><dd>X</dd></dl></div><div class='xr-var-data'><pre>array([  0.,   1.,   2., ..., 357., 358., 359.], dtype=float32)</pre></div></li><li class='xr-var-item'><div class='xr-var-name'><span class='xr-has-index'>latitude</span></div><div class='xr-var-dims'>(latitude)</div><div class='xr-var-dtype'>float32</div><div class='xr-var-preview xr-preview'>90.0 89.0 88.0 ... -89.0 -90.0</div><input id='attrs-eab631c9-69f3-4434-979b-57a604e78902' class='xr-var-attrs-in' type='checkbox' ><label for='attrs-eab631c9-69f3-4434-979b-57a604e78902' title='Show/Hide attributes'><svg class='icon xr-icon-file-text2'><use xlink:href='#icon-file-text2'></use></svg></label><input id='data-149c4028-1c5a-4c53-bd7a-d4602ad8f5c3' class='xr-var-data-in' type='checkbox'><label for='data-149c4028-1c5a-4c53-bd7a-d4602ad8f5c3' title='Show/Hide data repr'><svg class='icon xr-icon-database'><use xlink:href='#icon-database'></use></svg></label><div class='xr-var-attrs'><dl class='xr-attrs'><dt><span>standard_name :</span></dt><dd>latitude</dd><dt><span>long_name :</span></dt><dd>latitude</dd><dt><span>units :</span></dt><dd>degrees_north</dd><dt><span>axis :</span></dt><dd>Y</dd></dl></div><div class='xr-var-data'><pre>array([ 9.000000e+01,  8.900000e+01,  8.800000e+01,  8.700000e+01,\n",
       "        8.600000e+01,  8.500000e+01,  8.400000e+01,  8.300000e+01,\n",
       "        8.200000e+01,  8.100000e+01,  8.000000e+01,  7.900000e+01,\n",
       "        7.800000e+01,  7.700000e+01,  7.600000e+01,  7.500000e+01,\n",
       "        7.400000e+01,  7.300000e+01,  7.200000e+01,  7.100000e+01,\n",
       "        7.000000e+01,  6.900000e+01,  6.800000e+01,  6.700000e+01,\n",
       "        6.600000e+01,  6.500000e+01,  6.400000e+01,  6.300000e+01,\n",
       "        6.200000e+01,  6.100000e+01,  6.000000e+01,  5.900000e+01,\n",
       "        5.800000e+01,  5.700000e+01,  5.600000e+01,  5.500000e+01,\n",
       "        5.400000e+01,  5.300000e+01,  5.200000e+01,  5.100000e+01,\n",
       "        5.000000e+01,  4.900000e+01,  4.800000e+01,  4.700000e+01,\n",
       "        4.600000e+01,  4.500000e+01,  4.400000e+01,  4.300000e+01,\n",
       "        4.200000e+01,  4.100000e+01,  4.000000e+01,  3.900000e+01,\n",
       "        3.800000e+01,  3.700000e+01,  3.600000e+01,  3.500000e+01,\n",
       "        3.400000e+01,  3.300000e+01,  3.200000e+01,  3.100000e+01,\n",
       "        3.000000e+01,  2.900000e+01,  2.800000e+01,  2.700000e+01,\n",
       "        2.600000e+01,  2.500000e+01,  2.400000e+01,  2.300000e+01,\n",
       "        2.200000e+01,  2.100000e+01,  2.000000e+01,  1.900000e+01,\n",
       "        1.800000e+01,  1.700000e+01,  1.600000e+01,  1.500000e+01,\n",
       "        1.400000e+01,  1.300000e+01,  1.200000e+01,  1.100000e+01,\n",
       "        1.000000e+01,  9.000000e+00,  8.000000e+00,  7.000000e+00,\n",
       "        6.000000e+00,  5.000000e+00,  4.000000e+00,  3.000000e+00,\n",
       "        2.000000e+00,  1.000000e+00,  8.359147e-13, -1.000000e+00,\n",
       "       -2.000000e+00, -3.000000e+00, -4.000000e+00, -5.000000e+00,\n",
       "       -6.000000e+00, -7.000000e+00, -8.000000e+00, -9.000000e+00,\n",
       "       -1.000000e+01, -1.100000e+01, -1.200000e+01, -1.300000e+01,\n",
       "       -1.400000e+01, -1.500000e+01, -1.600000e+01, -1.700000e+01,\n",
       "       -1.800000e+01, -1.900000e+01, -2.000000e+01, -2.100000e+01,\n",
       "       -2.200000e+01, -2.300000e+01, -2.400000e+01, -2.500000e+01,\n",
       "       -2.600000e+01, -2.700000e+01, -2.800000e+01, -2.900000e+01,\n",
       "       -3.000000e+01, -3.100000e+01, -3.200000e+01, -3.300000e+01,\n",
       "       -3.400000e+01, -3.500000e+01, -3.600000e+01, -3.700000e+01,\n",
       "       -3.800000e+01, -3.900000e+01, -4.000000e+01, -4.100000e+01,\n",
       "       -4.200000e+01, -4.300000e+01, -4.400000e+01, -4.500000e+01,\n",
       "       -4.600000e+01, -4.700000e+01, -4.800000e+01, -4.900000e+01,\n",
       "       -5.000000e+01, -5.100000e+01, -5.200000e+01, -5.300000e+01,\n",
       "       -5.400000e+01, -5.500000e+01, -5.600000e+01, -5.700000e+01,\n",
       "       -5.800000e+01, -5.900000e+01, -6.000000e+01, -6.100000e+01,\n",
       "       -6.200000e+01, -6.300000e+01, -6.400000e+01, -6.500000e+01,\n",
       "       -6.600000e+01, -6.700000e+01, -6.800000e+01, -6.900000e+01,\n",
       "       -7.000000e+01, -7.100000e+01, -7.200000e+01, -7.300000e+01,\n",
       "       -7.400000e+01, -7.500000e+01, -7.600000e+01, -7.700000e+01,\n",
       "       -7.800000e+01, -7.900000e+01, -8.000000e+01, -8.100000e+01,\n",
       "       -8.200000e+01, -8.300000e+01, -8.400000e+01, -8.500000e+01,\n",
       "       -8.600000e+01, -8.700000e+01, -8.800000e+01, -8.900000e+01,\n",
       "       -9.000000e+01], dtype=float32)</pre></div></li></ul></div></li><li class='xr-section-item'><input id='section-fdd24a75-6417-493f-bb1d-0182f763e292' class='xr-section-summary-in' type='checkbox'  checked><label for='section-fdd24a75-6417-493f-bb1d-0182f763e292' class='xr-section-summary' >Data variables: <span>(1)</span></label><div class='xr-section-inline-details'></div><div class='xr-section-details'><ul class='xr-var-list'><li class='xr-var-item'><div class='xr-var-name'><span>tp</span></div><div class='xr-var-dims'>(time, latitude, longitude)</div><div class='xr-var-dtype'>float32</div><div class='xr-var-preview xr-preview'>...</div><input id='attrs-b238f30e-704a-48d5-84ed-6fbbf2fdf76c' class='xr-var-attrs-in' type='checkbox' ><label for='attrs-b238f30e-704a-48d5-84ed-6fbbf2fdf76c' title='Show/Hide attributes'><svg class='icon xr-icon-file-text2'><use xlink:href='#icon-file-text2'></use></svg></label><input id='data-385e3c3f-6427-47fe-9717-f29f668b3fae' class='xr-var-data-in' type='checkbox'><label for='data-385e3c3f-6427-47fe-9717-f29f668b3fae' title='Show/Hide data repr'><svg class='icon xr-icon-database'><use xlink:href='#icon-database'></use></svg></label><div class='xr-var-attrs'><dl class='xr-attrs'><dt><span>long_name :</span></dt><dd>Total precipitation</dd><dt><span>units :</span></dt><dd>m</dd></dl></div><div class='xr-var-data'><pre>[142700400 values with dtype=float32]</pre></div></li></ul></div></li><li class='xr-section-item'><input id='section-1b87e752-bd34-44f5-81ca-9cda43fadfb6' class='xr-section-summary-in' type='checkbox'  checked><label for='section-1b87e752-bd34-44f5-81ca-9cda43fadfb6' class='xr-section-summary' >Attributes: <span>(4)</span></label><div class='xr-section-inline-details'></div><div class='xr-section-details'><dl class='xr-attrs'><dt><span>CDI :</span></dt><dd>Climate Data Interface version 1.9.10 (https://mpimet.mpg.de/cdi)</dd><dt><span>Conventions :</span></dt><dd>CF-1.6</dd><dt><span>history :</span></dt><dd>Mon Oct 03 10:43:04 2022: cdo samplegrid,10 era5_50-55.nc era5_regrid_50-55.nc\n",
       "2022-09-30 08:16:54 GMT by grib_to_netcdf-2.25.1: /opt/ecmwf/mars-client/bin/grib_to_netcdf.bin -S param -o /cache/data9/adaptor.mars.internal-1664525133.0727975-5518-18-1fc5de53-fcf7-4866-be9a-726b276fa64a.nc /cache/tmp/1fc5de53-fcf7-4866-be9a-726b276fa64a-adaptor.mars.internal-1664524895.8906758-5518-33-tmp.grib</dd><dt><span>CDO :</span></dt><dd>Climate Data Operators version 1.9.10 (https://mpimet.mpg.de/cdo)</dd></dl></div></li></ul></div></div>"
      ],
      "text/plain": [
       "<xarray.Dataset>\n",
       "Dimensions:    (latitude: 181, longitude: 360, time: 2190)\n",
       "Coordinates:\n",
       "  * time       (time) datetime64[ns] 1950-01-02 1950-01-03 ... 1955-12-31\n",
       "  * longitude  (longitude) float32 0.0 1.0 2.0 3.0 ... 356.0 357.0 358.0 359.0\n",
       "  * latitude   (latitude) float32 90.0 89.0 88.0 87.0 ... -88.0 -89.0 -90.0\n",
       "Data variables:\n",
       "    tp         (time, latitude, longitude) float32 ...\n",
       "Attributes:\n",
       "    CDI:          Climate Data Interface version 1.9.10 (https://mpimet.mpg.d...\n",
       "    Conventions:  CF-1.6\n",
       "    history:      Mon Oct 03 10:43:04 2022: cdo samplegrid,10 era5_50-55.nc e...\n",
       "    CDO:          Climate Data Operators version 1.9.10 (https://mpimet.mpg.d..."
      ]
     },
     "execution_count": 70,
     "metadata": {},
     "output_type": "execute_result"
    }
   ],
   "source": [
    "pre_50_55"
   ]
  },
  {
   "cell_type": "code",
   "execution_count": null,
   "metadata": {},
   "outputs": [],
   "source": []
  }
 ],
 "metadata": {
  "kernelspec": {
   "display_name": "Python 3",
   "language": "python",
   "name": "python3"
  },
  "language_info": {
   "codemirror_mode": {
    "name": "ipython",
    "version": 3
   },
   "file_extension": ".py",
   "mimetype": "text/x-python",
   "name": "python",
   "nbconvert_exporter": "python",
   "pygments_lexer": "ipython3",
   "version": "3.7.8"
  }
 },
 "nbformat": 4,
 "nbformat_minor": 4
}
